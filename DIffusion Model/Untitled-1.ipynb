{
 "cells": [
  {
   "cell_type": "code",
   "execution_count": null,
   "metadata": {},
   "outputs": [],
   "source": [
    "#This is a diffusion model notebook"
   ]
  },
  {
   "cell_type": "code",
   "execution_count": 2,
   "metadata": {},
   "outputs": [],
   "source": [
    "import torch\n",
    "import d2l\n",
    "from torch import nn\n",
    "import torch.optim as optim"
   ]
  },
  {
   "cell_type": "code",
   "execution_count": null,
   "metadata": {},
   "outputs": [],
   "source": [
    "#This is the teaining model\n",
    "def training_loop(loader, model, schedule, epochs=10000):\n",
    "    optimizer = optim.Adam(model.parameters(), lr=1e-3)\n",
    "    for _ in range(epochs):\n",
    "        for x in loader:\n",
    "            optimizer.zero_grad()\n",
    "            sigma, eps = generate_train_sample(x, schedule)\n",
    "            eps_hat = model(x_0+sigma*eps, sigma)\n",
    "            loss = nn.MSE()(eps_hat, eps)\n",
    "            optimizer.backward()\n",
    "            optimizer.step()\n",
    "def generate_train_example(x0, schedule):\n",
    "    sigma = schedule.sample()\n",
    "    eps = torch.randn_like(x0) # Generate a random noise with shape same as x0\n",
    "    return sigma, eps\n",
    "class Schedule:\n",
    "    def __init__(self, sigmas: torch.FloatTensor):\n",
    "        self.sigmas = sigmas\n",
    "    def __getitem__(self, i) -> torch.FloatTensor:\n",
    "        return self.sigmas[i]\n",
    "    def __len__(self) -> int:\n",
    "        return len(self.sigmas)\n",
    "    def sample_batch(self, x0:torch.FloatTensor) -> torch.FloatTensor:\n",
    "        return self[torch.randint(len(self), (x0.shape[0],))].to(x0)\n"
   ]
  }
 ],
 "metadata": {
  "kernelspec": {
   "display_name": "d2l",
   "language": "python",
   "name": "python3"
  },
  "language_info": {
   "codemirror_mode": {
    "name": "ipython",
    "version": 3
   },
   "file_extension": ".py",
   "mimetype": "text/x-python",
   "name": "python",
   "nbconvert_exporter": "python",
   "pygments_lexer": "ipython3",
   "version": "3.9.0"
  }
 },
 "nbformat": 4,
 "nbformat_minor": 2
}
